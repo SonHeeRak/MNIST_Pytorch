{
 "cells": [
  {
   "cell_type": "code",
   "execution_count": 1,
   "metadata": {},
   "outputs": [],
   "source": [
    "import numpy as np\n",
    "import matplotlib.pyplot as plt"
   ]
  },
  {
   "cell_type": "code",
   "execution_count": 2,
   "metadata": {},
   "outputs": [],
   "source": [
    "import torch\n",
    "import torch.nn as nn\n",
    "import torch.optim as optim"
   ]
  },
  {
   "cell_type": "code",
   "execution_count": 3,
   "metadata": {},
   "outputs": [],
   "source": [
    "from utils import load_mnist\n",
    "from trainer import Trainer"
   ]
  },
  {
   "cell_type": "code",
   "execution_count": 4,
   "metadata": {},
   "outputs": [],
   "source": [
    "def show_image(x):\n",
    "    if x.dim() == 1:\n",
    "        x = x.view(int(x.size(0) ** .5), -1)\n",
    "        \n",
    "        plt.imshow(x, cmap='gray')\n",
    "        plt.show()"
   ]
  },
  {
   "cell_type": "code",
   "execution_count": 6,
   "metadata": {},
   "outputs": [
    {
     "name": "stdout",
     "output_type": "stream",
     "text": [
      "Namespace(batch_size=256, btl_size=2, n_epochs=50, train_ratio=0.8, verbose=1)\n"
     ]
    }
   ],
   "source": [
    "from argparse import Namespace\n",
    "\n",
    "config = {\n",
    "    'train_ratio': .8,\n",
    "    'batch_size': 256,\n",
    "    'n_epochs': 50,\n",
    "    'verbose': 1,\n",
    "    'btl_size': 2\n",
    "}\n",
    "\n",
    "config = Namespace(**config)\n",
    "\n",
    "print(config)"
   ]
  },
  {
   "cell_type": "code",
   "execution_count": 9,
   "metadata": {},
   "outputs": [
    {
     "name": "stdout",
     "output_type": "stream",
     "text": [
      "Train: torch.Size([48000, 784]) torch.Size([48000])\n",
      "Valid: torch.Size([12000, 784]) torch.Size([12000])\n",
      "Test: torch.Size([10000, 784]) torch.Size([10000])\n"
     ]
    }
   ],
   "source": [
    "train_x, train_y = load_mnist(flatten=True)\n",
    "test_x, test_y = load_mnist(is_train=False, flatten=True)\n",
    "\n",
    "train_cnt = int(train_x.size(0) * config.train_ratio)\n",
    "valid_cnt = train_x.size(0) - train_cnt\n",
    "\n",
    "# Shuffle dataset to split into train/valid set.\n",
    "indices = torch.randperm(train_x.size(0))\n",
    "train_x, valid_x = torch.index_select(\n",
    "    train_x,\n",
    "    dim=0,\n",
    "    index=indices\n",
    ").split([train_cnt, valid_cnt], dim=0)\n",
    "train_y, valid_y = torch.index_select(\n",
    "    train_y,\n",
    "    dim=0,\n",
    "    index=indices\n",
    ").split([train_cnt, valid_cnt], dim=0)\n",
    "\n",
    "print('Train:', train_x.shape, train_y.shape)\n",
    "print('Valid:', valid_x.shape, valid_y.shape)\n",
    "print('Test:', test_x.shape, test_y.shape)"
   ]
  },
  {
   "cell_type": "code",
   "execution_count": 10,
   "metadata": {},
   "outputs": [],
   "source": [
    "from model import Autoencoder"
   ]
  },
  {
   "cell_type": "code",
   "execution_count": 11,
   "metadata": {},
   "outputs": [],
   "source": [
    "model = Autoencoder(btl_size=config.btl_size)\n",
    "optimizer = optim.Adam(model.parameters())\n",
    "crit = nn.MSELoss()\n",
    "\n",
    "trainer = Trainer(model, optimizer, crit)"
   ]
  },
  {
   "cell_type": "code",
   "execution_count": 17,
   "metadata": {},
   "outputs": [
    {
     "name": "stdout",
     "output_type": "stream",
     "text": [
      "Epoch(1/50): train_loss=6.9583e-02  valid_loss=4.8020e-02  lowest_loss=4.8020e-02\n",
      "Epoch(2/50): train_loss=4.5891e-02  valid_loss=4.4144e-02  lowest_loss=4.4144e-02\n",
      "Epoch(3/50): train_loss=4.3726e-02  valid_loss=4.2596e-02  lowest_loss=4.2596e-02\n",
      "Epoch(4/50): train_loss=4.2505e-02  valid_loss=4.2394e-02  lowest_loss=4.2394e-02\n",
      "Epoch(5/50): train_loss=4.2022e-02  valid_loss=4.1922e-02  lowest_loss=4.1922e-02\n",
      "Epoch(6/50): train_loss=4.1516e-02  valid_loss=4.1300e-02  lowest_loss=4.1300e-02\n",
      "Epoch(7/50): train_loss=4.1138e-02  valid_loss=4.0586e-02  lowest_loss=4.0586e-02\n",
      "Epoch(8/50): train_loss=4.0773e-02  valid_loss=4.0420e-02  lowest_loss=4.0420e-02\n",
      "Epoch(9/50): train_loss=4.0443e-02  valid_loss=4.0306e-02  lowest_loss=4.0306e-02\n",
      "Epoch(10/50): train_loss=4.0231e-02  valid_loss=4.0120e-02  lowest_loss=4.0120e-02\n",
      "Epoch(11/50): train_loss=4.0345e-02  valid_loss=3.9690e-02  lowest_loss=3.9690e-02\n",
      "Epoch(12/50): train_loss=3.9938e-02  valid_loss=3.9155e-02  lowest_loss=3.9155e-02\n",
      "Epoch(13/50): train_loss=3.9600e-02  valid_loss=3.8860e-02  lowest_loss=3.8860e-02\n",
      "Epoch(14/50): train_loss=3.9219e-02  valid_loss=3.8768e-02  lowest_loss=3.8768e-02\n",
      "Epoch(15/50): train_loss=3.8971e-02  valid_loss=3.8414e-02  lowest_loss=3.8414e-02\n",
      "Epoch(16/50): train_loss=3.8673e-02  valid_loss=3.9068e-02  lowest_loss=3.8414e-02\n",
      "Epoch(17/50): train_loss=3.8830e-02  valid_loss=3.9377e-02  lowest_loss=3.8414e-02\n",
      "Epoch(18/50): train_loss=3.9033e-02  valid_loss=3.8189e-02  lowest_loss=3.8189e-02\n",
      "Epoch(19/50): train_loss=3.8899e-02  valid_loss=3.8696e-02  lowest_loss=3.8189e-02\n",
      "Epoch(20/50): train_loss=3.8720e-02  valid_loss=3.7956e-02  lowest_loss=3.7956e-02\n",
      "Epoch(21/50): train_loss=3.8253e-02  valid_loss=3.7555e-02  lowest_loss=3.7555e-02\n",
      "Epoch(22/50): train_loss=3.8497e-02  valid_loss=3.7984e-02  lowest_loss=3.7555e-02\n",
      "Epoch(23/50): train_loss=3.8413e-02  valid_loss=3.8389e-02  lowest_loss=3.7555e-02\n",
      "Epoch(24/50): train_loss=3.7877e-02  valid_loss=3.7199e-02  lowest_loss=3.7199e-02\n",
      "Epoch(25/50): train_loss=3.7827e-02  valid_loss=3.7920e-02  lowest_loss=3.7199e-02\n",
      "Epoch(26/50): train_loss=3.7834e-02  valid_loss=3.7144e-02  lowest_loss=3.7144e-02\n",
      "Epoch(27/50): train_loss=3.8207e-02  valid_loss=3.7799e-02  lowest_loss=3.7144e-02\n",
      "Epoch(28/50): train_loss=3.8254e-02  valid_loss=3.7918e-02  lowest_loss=3.7144e-02\n",
      "Epoch(29/50): train_loss=3.8133e-02  valid_loss=3.7688e-02  lowest_loss=3.7144e-02\n",
      "Epoch(30/50): train_loss=3.8144e-02  valid_loss=3.7370e-02  lowest_loss=3.7144e-02\n",
      "Epoch(31/50): train_loss=3.7797e-02  valid_loss=3.7354e-02  lowest_loss=3.7144e-02\n",
      "Epoch(32/50): train_loss=3.7843e-02  valid_loss=3.7684e-02  lowest_loss=3.7144e-02\n",
      "Epoch(33/50): train_loss=3.7459e-02  valid_loss=3.6757e-02  lowest_loss=3.6757e-02\n",
      "Epoch(34/50): train_loss=3.7050e-02  valid_loss=3.8117e-02  lowest_loss=3.6757e-02\n",
      "Epoch(35/50): train_loss=3.7324e-02  valid_loss=3.7234e-02  lowest_loss=3.6757e-02\n",
      "Epoch(36/50): train_loss=3.6860e-02  valid_loss=3.6827e-02  lowest_loss=3.6757e-02\n",
      "Epoch(37/50): train_loss=3.7143e-02  valid_loss=3.7025e-02  lowest_loss=3.6757e-02\n",
      "Epoch(38/50): train_loss=3.7088e-02  valid_loss=3.7635e-02  lowest_loss=3.6757e-02\n",
      "Epoch(39/50): train_loss=3.7063e-02  valid_loss=3.6873e-02  lowest_loss=3.6757e-02\n",
      "Epoch(40/50): train_loss=3.7127e-02  valid_loss=3.6891e-02  lowest_loss=3.6757e-02\n",
      "Epoch(41/50): train_loss=3.7204e-02  valid_loss=3.6489e-02  lowest_loss=3.6489e-02\n",
      "Epoch(42/50): train_loss=3.6822e-02  valid_loss=3.6805e-02  lowest_loss=3.6489e-02\n",
      "Epoch(43/50): train_loss=3.6572e-02  valid_loss=3.5800e-02  lowest_loss=3.5800e-02\n",
      "Epoch(44/50): train_loss=3.6890e-02  valid_loss=3.6471e-02  lowest_loss=3.5800e-02\n",
      "Epoch(45/50): train_loss=3.6547e-02  valid_loss=3.6317e-02  lowest_loss=3.5800e-02\n",
      "Epoch(46/50): train_loss=3.6355e-02  valid_loss=3.6344e-02  lowest_loss=3.5800e-02\n",
      "Epoch(47/50): train_loss=3.6330e-02  valid_loss=3.6497e-02  lowest_loss=3.5800e-02\n",
      "Epoch(48/50): train_loss=3.6364e-02  valid_loss=3.5964e-02  lowest_loss=3.5800e-02\n",
      "Epoch(49/50): train_loss=3.6303e-02  valid_loss=3.5980e-02  lowest_loss=3.5800e-02\n",
      "Epoch(50/50): train_loss=3.6424e-02  valid_loss=3.6681e-02  lowest_loss=3.5800e-02\n"
     ]
    }
   ],
   "source": [
    "trainer.train((train_x, train_x), (valid_x, valid_x), config)"
   ]
  },
  {
   "cell_type": "markdown",
   "metadata": {},
   "source": [
    "# Mean value in each space"
   ]
  },
  {
   "cell_type": "code",
   "execution_count": 20,
   "metadata": {},
   "outputs": [
    {
     "name": "stderr",
     "output_type": "stream",
     "text": [
      "/home/lab2ai/Pytorch/lib/python3.6/site-packages/matplotlib/font_manager.py:1241: UserWarning: findfont: Font family ['NanumGothic'] not found. Falling back to DejaVu Sans.\n",
      "  (prop.get_family(), self.defaultFamily[fontext]))\n"
     ]
    },
    {
     "data": {
      "image/png": "[encoded data removed]",
      "text/plain": [
       "<Figure size 432x288 with 1 Axes>"
      ]
     },
     "metadata": {
      "needs_background": "light"
     },
     "output_type": "display_data"
    },
    {
     "data": {
      "image/png": "[encoded data removed]",
      "text/plain": [
       "<Figure size 432x288 with 1 Axes>"
      ]
     },
     "metadata": {
      "needs_background": "light"
     },
     "output_type": "display_data"
    },
    {
     "data": {
      "image/png": "[encoded data removed]",
      "text/plain": [
       "<Figure size 432x288 with 1 Axes>"
      ]
     },
     "metadata": {
      "needs_background": "light"
     },
     "output_type": "display_data"
    },
    {
     "data": {
      "image/png": "[encoded data removed]",
      "text/plain": [
       "<Figure size 432x288 with 1 Axes>"
      ]
     },
     "metadata": {
      "needs_background": "light"
     },
     "output_type": "display_data"
    }
   ],
   "source": [
    "with torch.no_grad():\n",
    "    import random\n",
    "    \n",
    "    index1 = int(random.random() * test_x.size(0))\n",
    "    index2 = int(random.random() * test_x.size(0))\n",
    "    \n",
    "    x1 = model.encoder(test_x[index1].view(1, -1))\n",
    "    x2 = model.encoder(test_x[index2].view(1, -1))\n",
    "    \n",
    "    recon = model.decoder((x1 + x2) / 2).squeeze()\n",
    "    \n",
    "    show_image(test_x[index1])\n",
    "    show_image(test_x[index2])\n",
    "    show_image((test_x[index1] + test_x[index2]) / 2)\n",
    "    show_image(recon)"
   ]
  },
  {
   "cell_type": "code",
   "execution_count": null,
   "metadata": {},
   "outputs": [],
   "source": []
  }
 ],
 "metadata": {
  "kernelspec": {
   "display_name": "Pytorch",
   "language": "python",
   "name": "pytorch"
  },
  "language_info": {
   "codemirror_mode": {
    "name": "ipython",
    "version": 3
   },
   "file_extension": ".py",
   "mimetype": "text/x-python",
   "name": "python",
   "nbconvert_exporter": "python",
   "pygments_lexer": "ipython3",
   "version": "3.6.7"
  }
 },
 "nbformat": 4,
 "nbformat_minor": 4
}
